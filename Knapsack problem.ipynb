{
 "cells": [
  {
   "cell_type": "code",
   "execution_count": 1,
   "metadata": {},
   "outputs": [
    {
     "name": "stdout",
     "output_type": "stream",
     "text": [
      "Enter number of items: 4\n",
      "Enter the values of the 4 item(s) in order: 60 10 100 60\n",
      "Enter the positive weights of the 4 item(s) in order: 4 6 7 3\n",
      "Enter maximum weight: 10\n",
      "The maximum value of items that can be carried: 160\n"
     ]
    }
   ],
   "source": [
    "def knapsack(value, weight, capacity):\n",
    "    \"\"\"Return the maximum value of items that doesn't exceed capacity.\n",
    " \n",
    "    value[i] is the value of item i and weight[i] is the weight of item i\n",
    "    for 1 <= i <= n where n is the number of items.\n",
    " \n",
    "    capacity is the maximum weight.\n",
    "    \"\"\"\n",
    "    n = len(value) - 1\n",
    " \n",
    "    # m[i][w] will store the maximum value that can be attained with a maximum\n",
    "    # capacity of w and using only the first i items\n",
    "    m = [[-1]*(capacity + 1) for _ in range(n + 1)]\n",
    " \n",
    "    return knapsack_helper(value, weight, m, n, capacity)\n",
    " \n",
    " \n",
    "def knapsack_helper(value, weight, m, i, w):\n",
    "    \"\"\"Return maximum value of first i items attainable with weight <= w.\n",
    " \n",
    "    m[i][w] will store the maximum value that can be attained with a maximum\n",
    "    capacity of w and using only the first i items\n",
    "    This function fills m as smaller subproblems needed to compute m[i][w] are\n",
    "    solved.\n",
    " \n",
    "    value[i] is the value of item i and weight[i] is the weight of item i\n",
    "    for 1 <= i <= n where n is the number of items.\n",
    "    \"\"\"\n",
    "    if m[i][w] >= 0:\n",
    "        return m[i][w]\n",
    " \n",
    "    if i == 0:\n",
    "        q = 0\n",
    "    elif weight[i] <= w:\n",
    "        q = max(knapsack_helper(value, weight,\n",
    "                                m, i - 1 , w - weight[i])\n",
    "                + value[i],\n",
    "                knapsack_helper(value, weight,\n",
    "                                m, i - 1 , w))\n",
    "    else:\n",
    "        q = knapsack_helper(value, weight,\n",
    "                            m, i - 1 , w)\n",
    "    m[i][w] = q\n",
    "    return q\n",
    " \n",
    " \n",
    "n = int(input('Enter number of items: '))\n",
    "value = input('Enter the values of the {} item(s) in order: '\n",
    "              .format(n)).split()\n",
    "value = [int(v) for v in value]\n",
    "value.insert(0, None) # so that the value of the ith item is at value[i]\n",
    "weight = input('Enter the positive weights of the {} item(s) in order: '\n",
    "               .format(n)).split()\n",
    "weight = [int(w) for w in weight]\n",
    "weight.insert(0, None) # so that the weight of the ith item is at weight[i]\n",
    "capacity = int(input('Enter maximum weight: '))\n",
    " \n",
    "ans = knapsack(value, weight, capacity)\n",
    "print('The maximum value of items that can be carried:', ans)"
   ]
  },
  {
   "cell_type": "code",
   "execution_count": null,
   "metadata": {},
   "outputs": [],
   "source": []
  }
 ],
 "metadata": {
  "kernelspec": {
   "display_name": "Python 3",
   "language": "python",
   "name": "python3"
  },
  "language_info": {
   "codemirror_mode": {
    "name": "ipython",
    "version": 3
   },
   "file_extension": ".py",
   "mimetype": "text/x-python",
   "name": "python",
   "nbconvert_exporter": "python",
   "pygments_lexer": "ipython3",
   "version": "3.7.3"
  }
 },
 "nbformat": 4,
 "nbformat_minor": 2
}
